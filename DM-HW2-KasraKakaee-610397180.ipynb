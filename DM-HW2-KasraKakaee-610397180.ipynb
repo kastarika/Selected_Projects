{
 "cells": [
  {
   "cell_type": "code",
   "execution_count": 1,
   "metadata": {
    "colab": {
     "base_uri": "https://localhost:8080/"
    },
    "executionInfo": {
     "elapsed": 4746,
     "status": "ok",
     "timestamp": 1649612860708,
     "user": {
      "displayName": "kasra kakaee",
      "userId": "13254618899235387921"
     },
     "user_tz": -270
    },
    "id": "E7xKtNs74gbJ",
    "outputId": "ab78c599-3f4a-4104-ad30-a779532df38a"
   },
   "outputs": [
    {
     "name": "stdout",
     "output_type": "stream",
     "text": [
      "Requirement already satisfied: scikit-learn in /usr/local/lib/python3.7/dist-packages (1.0.2)\n",
      "Requirement already satisfied: joblib>=0.11 in /usr/local/lib/python3.7/dist-packages (from scikit-learn) (1.1.0)\n",
      "Requirement already satisfied: scipy>=1.1.0 in /usr/local/lib/python3.7/dist-packages (from scikit-learn) (1.4.1)\n",
      "Requirement already satisfied: threadpoolctl>=2.0.0 in /usr/local/lib/python3.7/dist-packages (from scikit-learn) (3.1.0)\n",
      "Requirement already satisfied: numpy>=1.14.6 in /usr/local/lib/python3.7/dist-packages (from scikit-learn) (1.21.5)\n"
     ]
    }
   ],
   "source": [
    "!pip install -U scikit-learn"
   ]
  },
  {
   "cell_type": "code",
   "execution_count": 2,
   "metadata": {
    "executionInfo": {
     "elapsed": 2,
     "status": "ok",
     "timestamp": 1649612863578,
     "user": {
      "displayName": "kasra kakaee",
      "userId": "13254618899235387921"
     },
     "user_tz": -270
    },
    "id": "rcsyYMJFFhYg"
   },
   "outputs": [],
   "source": [
    "import numpy as np\n",
    "import pandas as pd"
   ]
  },
  {
   "cell_type": "markdown",
   "metadata": {
    "id": "03Qlbvjowm4_"
   },
   "source": [
    "# soale 1\n"
   ]
  },
  {
   "cell_type": "code",
   "execution_count": 88,
   "metadata": {
    "colab": {
     "base_uri": "https://localhost:8080/",
     "height": 206
    },
    "executionInfo": {
     "elapsed": 395,
     "status": "ok",
     "timestamp": 1649617847860,
     "user": {
      "displayName": "kasra kakaee",
      "userId": "13254618899235387921"
     },
     "user_tz": -270
    },
    "id": "Tth8zNu_F9VE",
    "outputId": "25f37db9-4486-40df-c4d7-cb9347678537"
   },
   "outputs": [
    {
     "data": {
      "text/html": [
       "\n",
       "  <div id=\"df-da99dee9-7117-4474-b281-b7c1d040e2f6\">\n",
       "    <div class=\"colab-df-container\">\n",
       "      <div>\n",
       "<style scoped>\n",
       "    .dataframe tbody tr th:only-of-type {\n",
       "        vertical-align: middle;\n",
       "    }\n",
       "\n",
       "    .dataframe tbody tr th {\n",
       "        vertical-align: top;\n",
       "    }\n",
       "\n",
       "    .dataframe thead th {\n",
       "        text-align: right;\n",
       "    }\n",
       "</style>\n",
       "<table border=\"1\" class=\"dataframe\">\n",
       "  <thead>\n",
       "    <tr style=\"text-align: right;\">\n",
       "      <th></th>\n",
       "      <th>Age</th>\n",
       "      <th>SystolicBP</th>\n",
       "      <th>DiastolicBP</th>\n",
       "      <th>BS</th>\n",
       "      <th>BodyTemp</th>\n",
       "      <th>HeartRate</th>\n",
       "      <th>RiskLevel</th>\n",
       "    </tr>\n",
       "  </thead>\n",
       "  <tbody>\n",
       "    <tr>\n",
       "      <th>0</th>\n",
       "      <td>25</td>\n",
       "      <td>130</td>\n",
       "      <td>80</td>\n",
       "      <td>15.0</td>\n",
       "      <td>98.0</td>\n",
       "      <td>86</td>\n",
       "      <td>high risk</td>\n",
       "    </tr>\n",
       "    <tr>\n",
       "      <th>1</th>\n",
       "      <td>35</td>\n",
       "      <td>140</td>\n",
       "      <td>90</td>\n",
       "      <td>13.0</td>\n",
       "      <td>98.0</td>\n",
       "      <td>70</td>\n",
       "      <td>high risk</td>\n",
       "    </tr>\n",
       "    <tr>\n",
       "      <th>2</th>\n",
       "      <td>29</td>\n",
       "      <td>90</td>\n",
       "      <td>70</td>\n",
       "      <td>8.0</td>\n",
       "      <td>100.0</td>\n",
       "      <td>80</td>\n",
       "      <td>high risk</td>\n",
       "    </tr>\n",
       "    <tr>\n",
       "      <th>3</th>\n",
       "      <td>30</td>\n",
       "      <td>140</td>\n",
       "      <td>85</td>\n",
       "      <td>7.0</td>\n",
       "      <td>98.0</td>\n",
       "      <td>70</td>\n",
       "      <td>high risk</td>\n",
       "    </tr>\n",
       "    <tr>\n",
       "      <th>4</th>\n",
       "      <td>35</td>\n",
       "      <td>120</td>\n",
       "      <td>60</td>\n",
       "      <td>6.1</td>\n",
       "      <td>98.0</td>\n",
       "      <td>76</td>\n",
       "      <td>low risk</td>\n",
       "    </tr>\n",
       "  </tbody>\n",
       "</table>\n",
       "</div>\n",
       "      <button class=\"colab-df-convert\" onclick=\"convertToInteractive('df-da99dee9-7117-4474-b281-b7c1d040e2f6')\"\n",
       "              title=\"Convert this dataframe to an interactive table.\"\n",
       "              style=\"display:none;\">\n",
       "        \n",
       "  <svg xmlns=\"http://www.w3.org/2000/svg\" height=\"24px\"viewBox=\"0 0 24 24\"\n",
       "       width=\"24px\">\n",
       "    <path d=\"M0 0h24v24H0V0z\" fill=\"none\"/>\n",
       "    <path d=\"M18.56 5.44l.94 2.06.94-2.06 2.06-.94-2.06-.94-.94-2.06-.94 2.06-2.06.94zm-11 1L8.5 8.5l.94-2.06 2.06-.94-2.06-.94L8.5 2.5l-.94 2.06-2.06.94zm10 10l.94 2.06.94-2.06 2.06-.94-2.06-.94-.94-2.06-.94 2.06-2.06.94z\"/><path d=\"M17.41 7.96l-1.37-1.37c-.4-.4-.92-.59-1.43-.59-.52 0-1.04.2-1.43.59L10.3 9.45l-7.72 7.72c-.78.78-.78 2.05 0 2.83L4 21.41c.39.39.9.59 1.41.59.51 0 1.02-.2 1.41-.59l7.78-7.78 2.81-2.81c.8-.78.8-2.07 0-2.86zM5.41 20L4 18.59l7.72-7.72 1.47 1.35L5.41 20z\"/>\n",
       "  </svg>\n",
       "      </button>\n",
       "      \n",
       "  <style>\n",
       "    .colab-df-container {\n",
       "      display:flex;\n",
       "      flex-wrap:wrap;\n",
       "      gap: 12px;\n",
       "    }\n",
       "\n",
       "    .colab-df-convert {\n",
       "      background-color: #E8F0FE;\n",
       "      border: none;\n",
       "      border-radius: 50%;\n",
       "      cursor: pointer;\n",
       "      display: none;\n",
       "      fill: #1967D2;\n",
       "      height: 32px;\n",
       "      padding: 0 0 0 0;\n",
       "      width: 32px;\n",
       "    }\n",
       "\n",
       "    .colab-df-convert:hover {\n",
       "      background-color: #E2EBFA;\n",
       "      box-shadow: 0px 1px 2px rgba(60, 64, 67, 0.3), 0px 1px 3px 1px rgba(60, 64, 67, 0.15);\n",
       "      fill: #174EA6;\n",
       "    }\n",
       "\n",
       "    [theme=dark] .colab-df-convert {\n",
       "      background-color: #3B4455;\n",
       "      fill: #D2E3FC;\n",
       "    }\n",
       "\n",
       "    [theme=dark] .colab-df-convert:hover {\n",
       "      background-color: #434B5C;\n",
       "      box-shadow: 0px 1px 3px 1px rgba(0, 0, 0, 0.15);\n",
       "      filter: drop-shadow(0px 1px 2px rgba(0, 0, 0, 0.3));\n",
       "      fill: #FFFFFF;\n",
       "    }\n",
       "  </style>\n",
       "\n",
       "      <script>\n",
       "        const buttonEl =\n",
       "          document.querySelector('#df-da99dee9-7117-4474-b281-b7c1d040e2f6 button.colab-df-convert');\n",
       "        buttonEl.style.display =\n",
       "          google.colab.kernel.accessAllowed ? 'block' : 'none';\n",
       "\n",
       "        async function convertToInteractive(key) {\n",
       "          const element = document.querySelector('#df-da99dee9-7117-4474-b281-b7c1d040e2f6');\n",
       "          const dataTable =\n",
       "            await google.colab.kernel.invokeFunction('convertToInteractive',\n",
       "                                                     [key], {});\n",
       "          if (!dataTable) return;\n",
       "\n",
       "          const docLinkHtml = 'Like what you see? Visit the ' +\n",
       "            '<a target=\"_blank\" href=https://colab.research.google.com/notebooks/data_table.ipynb>data table notebook</a>'\n",
       "            + ' to learn more about interactive tables.';\n",
       "          element.innerHTML = '';\n",
       "          dataTable['output_type'] = 'display_data';\n",
       "          await google.colab.output.renderOutput(dataTable, element);\n",
       "          const docLink = document.createElement('div');\n",
       "          docLink.innerHTML = docLinkHtml;\n",
       "          element.appendChild(docLink);\n",
       "        }\n",
       "      </script>\n",
       "    </div>\n",
       "  </div>\n",
       "  "
      ],
      "text/plain": [
       "   Age  SystolicBP  DiastolicBP    BS  BodyTemp  HeartRate  RiskLevel\n",
       "0   25         130           80  15.0      98.0         86  high risk\n",
       "1   35         140           90  13.0      98.0         70  high risk\n",
       "2   29          90           70   8.0     100.0         80  high risk\n",
       "3   30         140           85   7.0      98.0         70  high risk\n",
       "4   35         120           60   6.1      98.0         76   low risk"
      ]
     },
     "execution_count": 88,
     "metadata": {},
     "output_type": "execute_result"
    }
   ],
   "source": [
    "df = pd.read_csv('/content/Maternal Health Risk Data Set.csv')\n",
    "y = df.iloc[:, 6:7]\n",
    "X = df.iloc[:, 0:6]\n",
    "df.head()"
   ]
  },
  {
   "cell_type": "code",
   "execution_count": 89,
   "metadata": {
    "colab": {
     "base_uri": "https://localhost:8080/",
     "height": 597
    },
    "executionInfo": {
     "elapsed": 5,
     "status": "ok",
     "timestamp": 1649617848690,
     "user": {
      "displayName": "kasra kakaee",
      "userId": "13254618899235387921"
     },
     "user_tz": -270
    },
    "id": "Q3KQ-DVBKTzn",
    "outputId": "ec6cde82-95e9-44b7-95bc-7bf2844ff97a"
   },
   "outputs": [
    {
     "name": "stderr",
     "output_type": "stream",
     "text": [
      "/usr/local/lib/python3.7/dist-packages/pandas/core/indexing.py:1732: SettingWithCopyWarning: \n",
      "A value is trying to be set on a copy of a slice from a DataFrame\n",
      "\n",
      "See the caveats in the documentation: https://pandas.pydata.org/pandas-docs/stable/user_guide/indexing.html#returning-a-view-versus-a-copy\n",
      "  self._setitem_single_block(indexer, value, name)\n",
      "/usr/local/lib/python3.7/dist-packages/pandas/core/indexing.py:723: SettingWithCopyWarning: \n",
      "A value is trying to be set on a copy of a slice from a DataFrame\n",
      "\n",
      "See the caveats in the documentation: https://pandas.pydata.org/pandas-docs/stable/user_guide/indexing.html#returning-a-view-versus-a-copy\n",
      "  iloc._setitem_with_indexer(indexer, value, self.name)\n"
     ]
    },
    {
     "data": {
      "text/html": [
       "\n",
       "  <div id=\"df-ff9e9f30-de40-448c-a2d2-2b047a1763bb\">\n",
       "    <div class=\"colab-df-container\">\n",
       "      <div>\n",
       "<style scoped>\n",
       "    .dataframe tbody tr th:only-of-type {\n",
       "        vertical-align: middle;\n",
       "    }\n",
       "\n",
       "    .dataframe tbody tr th {\n",
       "        vertical-align: top;\n",
       "    }\n",
       "\n",
       "    .dataframe thead th {\n",
       "        text-align: right;\n",
       "    }\n",
       "</style>\n",
       "<table border=\"1\" class=\"dataframe\">\n",
       "  <thead>\n",
       "    <tr style=\"text-align: right;\">\n",
       "      <th></th>\n",
       "      <th>RiskLevel</th>\n",
       "    </tr>\n",
       "  </thead>\n",
       "  <tbody>\n",
       "    <tr>\n",
       "      <th>0</th>\n",
       "      <td>2</td>\n",
       "    </tr>\n",
       "    <tr>\n",
       "      <th>1</th>\n",
       "      <td>2</td>\n",
       "    </tr>\n",
       "    <tr>\n",
       "      <th>2</th>\n",
       "      <td>2</td>\n",
       "    </tr>\n",
       "    <tr>\n",
       "      <th>3</th>\n",
       "      <td>2</td>\n",
       "    </tr>\n",
       "    <tr>\n",
       "      <th>4</th>\n",
       "      <td>0</td>\n",
       "    </tr>\n",
       "    <tr>\n",
       "      <th>...</th>\n",
       "      <td>...</td>\n",
       "    </tr>\n",
       "    <tr>\n",
       "      <th>1009</th>\n",
       "      <td>2</td>\n",
       "    </tr>\n",
       "    <tr>\n",
       "      <th>1010</th>\n",
       "      <td>2</td>\n",
       "    </tr>\n",
       "    <tr>\n",
       "      <th>1011</th>\n",
       "      <td>2</td>\n",
       "    </tr>\n",
       "    <tr>\n",
       "      <th>1012</th>\n",
       "      <td>2</td>\n",
       "    </tr>\n",
       "    <tr>\n",
       "      <th>1013</th>\n",
       "      <td>1</td>\n",
       "    </tr>\n",
       "  </tbody>\n",
       "</table>\n",
       "<p>1014 rows × 1 columns</p>\n",
       "</div>\n",
       "      <button class=\"colab-df-convert\" onclick=\"convertToInteractive('df-ff9e9f30-de40-448c-a2d2-2b047a1763bb')\"\n",
       "              title=\"Convert this dataframe to an interactive table.\"\n",
       "              style=\"display:none;\">\n",
       "        \n",
       "  <svg xmlns=\"http://www.w3.org/2000/svg\" height=\"24px\"viewBox=\"0 0 24 24\"\n",
       "       width=\"24px\">\n",
       "    <path d=\"M0 0h24v24H0V0z\" fill=\"none\"/>\n",
       "    <path d=\"M18.56 5.44l.94 2.06.94-2.06 2.06-.94-2.06-.94-.94-2.06-.94 2.06-2.06.94zm-11 1L8.5 8.5l.94-2.06 2.06-.94-2.06-.94L8.5 2.5l-.94 2.06-2.06.94zm10 10l.94 2.06.94-2.06 2.06-.94-2.06-.94-.94-2.06-.94 2.06-2.06.94z\"/><path d=\"M17.41 7.96l-1.37-1.37c-.4-.4-.92-.59-1.43-.59-.52 0-1.04.2-1.43.59L10.3 9.45l-7.72 7.72c-.78.78-.78 2.05 0 2.83L4 21.41c.39.39.9.59 1.41.59.51 0 1.02-.2 1.41-.59l7.78-7.78 2.81-2.81c.8-.78.8-2.07 0-2.86zM5.41 20L4 18.59l7.72-7.72 1.47 1.35L5.41 20z\"/>\n",
       "  </svg>\n",
       "      </button>\n",
       "      \n",
       "  <style>\n",
       "    .colab-df-container {\n",
       "      display:flex;\n",
       "      flex-wrap:wrap;\n",
       "      gap: 12px;\n",
       "    }\n",
       "\n",
       "    .colab-df-convert {\n",
       "      background-color: #E8F0FE;\n",
       "      border: none;\n",
       "      border-radius: 50%;\n",
       "      cursor: pointer;\n",
       "      display: none;\n",
       "      fill: #1967D2;\n",
       "      height: 32px;\n",
       "      padding: 0 0 0 0;\n",
       "      width: 32px;\n",
       "    }\n",
       "\n",
       "    .colab-df-convert:hover {\n",
       "      background-color: #E2EBFA;\n",
       "      box-shadow: 0px 1px 2px rgba(60, 64, 67, 0.3), 0px 1px 3px 1px rgba(60, 64, 67, 0.15);\n",
       "      fill: #174EA6;\n",
       "    }\n",
       "\n",
       "    [theme=dark] .colab-df-convert {\n",
       "      background-color: #3B4455;\n",
       "      fill: #D2E3FC;\n",
       "    }\n",
       "\n",
       "    [theme=dark] .colab-df-convert:hover {\n",
       "      background-color: #434B5C;\n",
       "      box-shadow: 0px 1px 3px 1px rgba(0, 0, 0, 0.15);\n",
       "      filter: drop-shadow(0px 1px 2px rgba(0, 0, 0, 0.3));\n",
       "      fill: #FFFFFF;\n",
       "    }\n",
       "  </style>\n",
       "\n",
       "      <script>\n",
       "        const buttonEl =\n",
       "          document.querySelector('#df-ff9e9f30-de40-448c-a2d2-2b047a1763bb button.colab-df-convert');\n",
       "        buttonEl.style.display =\n",
       "          google.colab.kernel.accessAllowed ? 'block' : 'none';\n",
       "\n",
       "        async function convertToInteractive(key) {\n",
       "          const element = document.querySelector('#df-ff9e9f30-de40-448c-a2d2-2b047a1763bb');\n",
       "          const dataTable =\n",
       "            await google.colab.kernel.invokeFunction('convertToInteractive',\n",
       "                                                     [key], {});\n",
       "          if (!dataTable) return;\n",
       "\n",
       "          const docLinkHtml = 'Like what you see? Visit the ' +\n",
       "            '<a target=\"_blank\" href=https://colab.research.google.com/notebooks/data_table.ipynb>data table notebook</a>'\n",
       "            + ' to learn more about interactive tables.';\n",
       "          element.innerHTML = '';\n",
       "          dataTable['output_type'] = 'display_data';\n",
       "          await google.colab.output.renderOutput(dataTable, element);\n",
       "          const docLink = document.createElement('div');\n",
       "          docLink.innerHTML = docLinkHtml;\n",
       "          element.appendChild(docLink);\n",
       "        }\n",
       "      </script>\n",
       "    </div>\n",
       "  </div>\n",
       "  "
      ],
      "text/plain": [
       "     RiskLevel\n",
       "0            2\n",
       "1            2\n",
       "2            2\n",
       "3            2\n",
       "4            0\n",
       "...        ...\n",
       "1009         2\n",
       "1010         2\n",
       "1011         2\n",
       "1012         2\n",
       "1013         1\n",
       "\n",
       "[1014 rows x 1 columns]"
      ]
     },
     "execution_count": 89,
     "metadata": {},
     "output_type": "execute_result"
    }
   ],
   "source": [
    "y.loc[(y[\"RiskLevel\"] == \"low risk\")] = 0\n",
    "y.loc[(y[\"RiskLevel\"] == \"mid risk\")] = 1\n",
    "y.loc[(y[\"RiskLevel\"] == \"high risk\")] = 2\n",
    "y"
   ]
  },
  {
   "cell_type": "code",
   "execution_count": 90,
   "metadata": {
    "colab": {
     "base_uri": "https://localhost:8080/"
    },
    "executionInfo": {
     "elapsed": 375,
     "status": "ok",
     "timestamp": 1649617851176,
     "user": {
      "displayName": "kasra kakaee",
      "userId": "13254618899235387921"
     },
     "user_tz": -270
    },
    "id": "KS0VT0WN3jgS",
    "outputId": "250ed18e-82a2-4b29-b5c5-8efae47b1d83"
   },
   "outputs": [
    {
     "name": "stdout",
     "output_type": "stream",
     "text": [
      "      Age  SystolicBP  DiastolicBP    BS  BodyTemp  HeartRate\n",
      "0      25         130           80  15.0      98.0         86\n",
      "1      35         140           90  13.0      98.0         70\n",
      "2      29          90           70   8.0     100.0         80\n",
      "3      30         140           85   7.0      98.0         70\n",
      "4      35         120           60   6.1      98.0         76\n",
      "...   ...         ...          ...   ...       ...        ...\n",
      "1009   22         120           60  15.0      98.0         80\n",
      "1010   55         120           90  18.0      98.0         60\n",
      "1011   35          85           60  19.0      98.0         86\n",
      "1012   43         120           90  18.0      98.0         70\n",
      "1013   32         120           65   6.0     101.0         76\n",
      "\n",
      "[1014 rows x 6 columns]\n"
     ]
    }
   ],
   "source": [
    "from sklearn import preprocessing\n",
    "scaler = preprocessing.MinMaxScaler().fit(X)\n",
    "print(X)\n",
    "X = pd.DataFrame(scaler.transform(X))"
   ]
  },
  {
   "cell_type": "code",
   "execution_count": 91,
   "metadata": {
    "executionInfo": {
     "elapsed": 2,
     "status": "ok",
     "timestamp": 1649617860815,
     "user": {
      "displayName": "kasra kakaee",
      "userId": "13254618899235387921"
     },
     "user_tz": -270
    },
    "id": "-keDnA8fSZPu"
   },
   "outputs": [],
   "source": [
    "idx = np.random.permutation(X.index)\n",
    "X = X.reindex(idx)\n",
    "y = y.reindex(idx)"
   ]
  },
  {
   "cell_type": "code",
   "execution_count": 92,
   "metadata": {
    "executionInfo": {
     "elapsed": 514,
     "status": "ok",
     "timestamp": 1649617864670,
     "user": {
      "displayName": "kasra kakaee",
      "userId": "13254618899235387921"
     },
     "user_tz": -270
    },
    "id": "4gEPZGvVTfSz"
   },
   "outputs": [],
   "source": [
    "n = X.shape[0]\n",
    "n = int(0.7 * n)\n",
    "X_train = X.iloc[:n,]\n",
    "X_test = X.iloc[n:,]\n",
    "y_train = y.iloc[:n,]\n",
    "y_train = y_train.astype('int')\n",
    "y_test = y.iloc[n:,]\n",
    "y_test = y_test.astype('int')"
   ]
  },
  {
   "cell_type": "code",
   "execution_count": 93,
   "metadata": {
    "colab": {
     "base_uri": "https://localhost:8080/"
    },
    "executionInfo": {
     "elapsed": 2,
     "status": "ok",
     "timestamp": 1649617866172,
     "user": {
      "displayName": "kasra kakaee",
      "userId": "13254618899235387921"
     },
     "user_tz": -270
    },
    "id": "4UOGEJ3lT5jf",
    "outputId": "d5fed1d3-95cb-4fd7-ba71-0c94eb998991"
   },
   "outputs": [
    {
     "name": "stdout",
     "output_type": "stream",
     "text": [
      "[[94 25  3]\n",
      " [15 80  7]\n",
      " [ 2  6 73]]\n",
      "0.8098360655737705\n"
     ]
    }
   ],
   "source": [
    "from sklearn import tree\n",
    "from sklearn.metrics import confusion_matrix\n",
    "clf = tree.DecisionTreeClassifier()\n",
    "clf = clf.fit(X_train, np.array(y_train))\n",
    "y_pred = clf.predict(X_test)\n",
    "print(confusion_matrix(y_test, y_pred))\n",
    "print(clf.score(X_test, y_test))"
   ]
  },
  {
   "cell_type": "code",
   "execution_count": 94,
   "metadata": {
    "colab": {
     "base_uri": "https://localhost:8080/"
    },
    "executionInfo": {
     "elapsed": 400,
     "status": "ok",
     "timestamp": 1649617869566,
     "user": {
      "displayName": "kasra kakaee",
      "userId": "13254618899235387921"
     },
     "user_tz": -270
    },
    "id": "Kbckb_qpoYpG",
    "outputId": "67b936da-6ecc-40e6-97fa-869df5e0cb8d"
   },
   "outputs": [
    {
     "name": "stdout",
     "output_type": "stream",
     "text": [
      "[0.76760563 0.78169014 0.77464789 0.74647887 0.79432624] 0.7729497552692038 0.015909112923928055\n",
      "[0.72535211 0.71830986 0.6971831  0.6971831  0.70921986] 0.7094496054340225 0.01124616376037998\n",
      "[0.74647887 0.67605634 0.65492958 0.6971831  0.67375887] 0.689681350514434 0.031397729358369854\n",
      "[[95 22  5]\n",
      " [14 84  4]\n",
      " [ 2 13 66]]\n",
      "0.8032786885245902\n"
     ]
    }
   ],
   "source": [
    "from sklearn.neighbors import KNeighborsClassifier\n",
    "neigh1 = KNeighborsClassifier(n_neighbors=1)\n",
    "neigh2 = KNeighborsClassifier(n_neighbors=2)\n",
    "neigh3 = KNeighborsClassifier(n_neighbors=3)\n",
    "from sklearn.model_selection import cross_val_score\n",
    "scores = cross_val_score(neigh1, X_train, np.array(y_train).ravel(), cv = 5)\n",
    "print(scores, scores.mean(), scores.std())\n",
    "scores = cross_val_score(neigh2, X_train, np.array(y_train).ravel(), cv = 5)\n",
    "print(scores, scores.mean(), scores.std())\n",
    "scores = cross_val_score(neigh3, X_train, np.array(y_train).ravel(), cv = 5)\n",
    "print(scores, scores.mean(), scores.std())\n",
    "\n",
    "neigh1.fit(X_train, np.array(y_train).ravel())\n",
    "y_pred = neigh1.predict(X_test)\n",
    "print(confusion_matrix(y_test,y_pred))\n",
    "print(neigh1.score(X_test, y_test))"
   ]
  },
  {
   "cell_type": "code",
   "execution_count": 95,
   "metadata": {
    "colab": {
     "base_uri": "https://localhost:8080/"
    },
    "executionInfo": {
     "elapsed": 385,
     "status": "ok",
     "timestamp": 1649617872903,
     "user": {
      "displayName": "kasra kakaee",
      "userId": "13254618899235387921"
     },
     "user_tz": -270
    },
    "id": "h5NuTOKTr4iR",
    "outputId": "2b1fbcff-c151-4880-dc7c-c2e11ac5868d"
   },
   "outputs": [
    {
     "name": "stdout",
     "output_type": "stream",
     "text": [
      "[[101  13   8]\n",
      " [ 45  41  16]\n",
      " [  3   9  69]]\n",
      "0.6918032786885245\n"
     ]
    }
   ],
   "source": [
    "from sklearn import svm\n",
    "svmcl = svm.SVC()\n",
    "svmcl = svmcl.fit(X_train, np.array(y_train).ravel())\n",
    "y_pred = svmcl.predict(X_test)\n",
    "print(confusion_matrix(y_test, y_pred))\n",
    "print(svmcl.score(X_test, y_test))"
   ]
  },
  {
   "cell_type": "code",
   "execution_count": 97,
   "metadata": {
    "colab": {
     "base_uri": "https://localhost:8080/"
    },
    "executionInfo": {
     "elapsed": 9205,
     "status": "ok",
     "timestamp": 1649617971017,
     "user": {
      "displayName": "kasra kakaee",
      "userId": "13254618899235387921"
     },
     "user_tz": -270
    },
    "id": "tOv_uY_ts098",
    "outputId": "01a92019-71c0-4d10-e210-b23b284c7ae8"
   },
   "outputs": [
    {
     "name": "stdout",
     "output_type": "stream",
     "text": [
      "[0.81690141 0.78873239 0.82394366 0.80985915 0.80851064] 0.8095894516032365 0.011796283167729595\n",
      "[0.80985915 0.83098592 0.81690141 0.77464789 0.82978723] 0.8124363200479472 0.020492370042774898\n",
      "[0.79577465 0.83098592 0.81690141 0.79577465 0.84397163] 0.8166816501847969 0.01909769019517587\n",
      "[0.80985915 0.82394366 0.80985915 0.79577465 0.82978723] 0.8138447707521725 0.011953655064062966\n",
      "[[99 18  5]\n",
      " [12 83  7]\n",
      " [ 2  6 73]]\n",
      "0.8360655737704918\n"
     ]
    }
   ],
   "source": [
    "from sklearn.ensemble import RandomForestClassifier\n",
    "rfc1 = RandomForestClassifier(n_estimators = 10)\n",
    "rfc2 = RandomForestClassifier(n_estimators = 50)\n",
    "rfc3 = RandomForestClassifier(n_estimators = 100)\n",
    "rfc4 = RandomForestClassifier(n_estimators = 400)\n",
    "\n",
    "scores = cross_val_score(rfc1, X_train, np.array(y_train).ravel(), cv = 5)\n",
    "print(scores, scores.mean(), scores.std())\n",
    "scores = cross_val_score(rfc2, X_train, np.array(y_train).ravel(), cv = 5)\n",
    "print(scores, scores.mean(), scores.std())\n",
    "scores = cross_val_score(rfc3, X_train, np.array(y_train).ravel(), cv = 5)\n",
    "print(scores, scores.mean(), scores.std())\n",
    "scores = cross_val_score(rfc4, X_train, np.array(y_train).ravel(), cv = 5)\n",
    "print(scores, scores.mean(), scores.std())\n",
    "\n",
    "rfc3 = rfc3.fit(X_train, np.array(y_train).ravel())\n",
    "y_pred = rfc3.predict(X_test)\n",
    "print(confusion_matrix(y_test, y_pred))\n",
    "print(rfc3.score(X_test, y_test))"
   ]
  },
  {
   "cell_type": "markdown",
   "metadata": {
    "id": "NaGSotpBv1oH"
   },
   "source": [
    "be joz svm baghie model ha taghriban deghate yeksan dashtand. knn va decision tree meghdare kami deghatash kamtar az algorithme digar bood va random forest behtarin natije ra dasht.\n",
    "ba crossvalidation dar knn didim ke k = 1 behtarin halat ast va ba crossvalidation dar random forest didim ke n_estimators tasire ziade nadarad va az haman meghdare default yani 100 estefade kardim"
   ]
  },
  {
   "cell_type": "markdown",
   "metadata": {
    "id": "82anYb7XwXui"
   },
   "source": [
    "# soale 2"
   ]
  },
  {
   "cell_type": "code",
   "execution_count": 135,
   "metadata": {
    "colab": {
     "base_uri": "https://localhost:8080/",
     "height": 300
    },
    "executionInfo": {
     "elapsed": 409,
     "status": "ok",
     "timestamp": 1649618767795,
     "user": {
      "displayName": "kasra kakaee",
      "userId": "13254618899235387921"
     },
     "user_tz": -270
    },
    "id": "o8hvfdP5wXCj",
    "outputId": "a8a06fe5-b3c4-432b-b224-aa6930f88245"
   },
   "outputs": [
    {
     "data": {
      "text/html": [
       "\n",
       "  <div id=\"df-0676c5af-165f-4a49-985a-0228481423da\">\n",
       "    <div class=\"colab-df-container\">\n",
       "      <div>\n",
       "<style scoped>\n",
       "    .dataframe tbody tr th:only-of-type {\n",
       "        vertical-align: middle;\n",
       "    }\n",
       "\n",
       "    .dataframe tbody tr th {\n",
       "        vertical-align: top;\n",
       "    }\n",
       "\n",
       "    .dataframe thead th {\n",
       "        text-align: right;\n",
       "    }\n",
       "</style>\n",
       "<table border=\"1\" class=\"dataframe\">\n",
       "  <thead>\n",
       "    <tr style=\"text-align: right;\">\n",
       "      <th></th>\n",
       "      <th>id</th>\n",
       "      <th>gender</th>\n",
       "      <th>PPE</th>\n",
       "      <th>DFA</th>\n",
       "      <th>RPDE</th>\n",
       "      <th>numPulses</th>\n",
       "      <th>numPeriodsPulses</th>\n",
       "      <th>meanPeriodPulses</th>\n",
       "      <th>stdDevPeriodPulses</th>\n",
       "      <th>locPctJitter</th>\n",
       "      <th>...</th>\n",
       "      <th>tqwt_kurtosisValue_dec_28</th>\n",
       "      <th>tqwt_kurtosisValue_dec_29</th>\n",
       "      <th>tqwt_kurtosisValue_dec_30</th>\n",
       "      <th>tqwt_kurtosisValue_dec_31</th>\n",
       "      <th>tqwt_kurtosisValue_dec_32</th>\n",
       "      <th>tqwt_kurtosisValue_dec_33</th>\n",
       "      <th>tqwt_kurtosisValue_dec_34</th>\n",
       "      <th>tqwt_kurtosisValue_dec_35</th>\n",
       "      <th>tqwt_kurtosisValue_dec_36</th>\n",
       "      <th>class</th>\n",
       "    </tr>\n",
       "  </thead>\n",
       "  <tbody>\n",
       "    <tr>\n",
       "      <th>0</th>\n",
       "      <td>0</td>\n",
       "      <td>1</td>\n",
       "      <td>0.85247</td>\n",
       "      <td>0.71826</td>\n",
       "      <td>0.57227</td>\n",
       "      <td>240</td>\n",
       "      <td>239</td>\n",
       "      <td>0.008064</td>\n",
       "      <td>0.000087</td>\n",
       "      <td>0.00218</td>\n",
       "      <td>...</td>\n",
       "      <td>1.5620</td>\n",
       "      <td>2.6445</td>\n",
       "      <td>3.8686</td>\n",
       "      <td>4.2105</td>\n",
       "      <td>5.1221</td>\n",
       "      <td>4.4625</td>\n",
       "      <td>2.6202</td>\n",
       "      <td>3.0004</td>\n",
       "      <td>18.9405</td>\n",
       "      <td>1</td>\n",
       "    </tr>\n",
       "    <tr>\n",
       "      <th>1</th>\n",
       "      <td>0</td>\n",
       "      <td>1</td>\n",
       "      <td>0.76686</td>\n",
       "      <td>0.69481</td>\n",
       "      <td>0.53966</td>\n",
       "      <td>234</td>\n",
       "      <td>233</td>\n",
       "      <td>0.008258</td>\n",
       "      <td>0.000073</td>\n",
       "      <td>0.00195</td>\n",
       "      <td>...</td>\n",
       "      <td>1.5589</td>\n",
       "      <td>3.6107</td>\n",
       "      <td>23.5155</td>\n",
       "      <td>14.1962</td>\n",
       "      <td>11.0261</td>\n",
       "      <td>9.5082</td>\n",
       "      <td>6.5245</td>\n",
       "      <td>6.3431</td>\n",
       "      <td>45.1780</td>\n",
       "      <td>1</td>\n",
       "    </tr>\n",
       "    <tr>\n",
       "      <th>2</th>\n",
       "      <td>0</td>\n",
       "      <td>1</td>\n",
       "      <td>0.85083</td>\n",
       "      <td>0.67604</td>\n",
       "      <td>0.58982</td>\n",
       "      <td>232</td>\n",
       "      <td>231</td>\n",
       "      <td>0.008340</td>\n",
       "      <td>0.000060</td>\n",
       "      <td>0.00176</td>\n",
       "      <td>...</td>\n",
       "      <td>1.5643</td>\n",
       "      <td>2.3308</td>\n",
       "      <td>9.4959</td>\n",
       "      <td>10.7458</td>\n",
       "      <td>11.0177</td>\n",
       "      <td>4.8066</td>\n",
       "      <td>2.9199</td>\n",
       "      <td>3.1495</td>\n",
       "      <td>4.7666</td>\n",
       "      <td>1</td>\n",
       "    </tr>\n",
       "    <tr>\n",
       "      <th>3</th>\n",
       "      <td>1</td>\n",
       "      <td>0</td>\n",
       "      <td>0.41121</td>\n",
       "      <td>0.79672</td>\n",
       "      <td>0.59257</td>\n",
       "      <td>178</td>\n",
       "      <td>177</td>\n",
       "      <td>0.010858</td>\n",
       "      <td>0.000183</td>\n",
       "      <td>0.00419</td>\n",
       "      <td>...</td>\n",
       "      <td>3.7805</td>\n",
       "      <td>3.5664</td>\n",
       "      <td>5.2558</td>\n",
       "      <td>14.0403</td>\n",
       "      <td>4.2235</td>\n",
       "      <td>4.6857</td>\n",
       "      <td>4.8460</td>\n",
       "      <td>6.2650</td>\n",
       "      <td>4.0603</td>\n",
       "      <td>1</td>\n",
       "    </tr>\n",
       "    <tr>\n",
       "      <th>4</th>\n",
       "      <td>1</td>\n",
       "      <td>0</td>\n",
       "      <td>0.32790</td>\n",
       "      <td>0.79782</td>\n",
       "      <td>0.53028</td>\n",
       "      <td>236</td>\n",
       "      <td>235</td>\n",
       "      <td>0.008162</td>\n",
       "      <td>0.002669</td>\n",
       "      <td>0.00535</td>\n",
       "      <td>...</td>\n",
       "      <td>6.1727</td>\n",
       "      <td>5.8416</td>\n",
       "      <td>6.0805</td>\n",
       "      <td>5.7621</td>\n",
       "      <td>7.7817</td>\n",
       "      <td>11.6891</td>\n",
       "      <td>8.2103</td>\n",
       "      <td>5.0559</td>\n",
       "      <td>6.1164</td>\n",
       "      <td>1</td>\n",
       "    </tr>\n",
       "  </tbody>\n",
       "</table>\n",
       "<p>5 rows × 755 columns</p>\n",
       "</div>\n",
       "      <button class=\"colab-df-convert\" onclick=\"convertToInteractive('df-0676c5af-165f-4a49-985a-0228481423da')\"\n",
       "              title=\"Convert this dataframe to an interactive table.\"\n",
       "              style=\"display:none;\">\n",
       "        \n",
       "  <svg xmlns=\"http://www.w3.org/2000/svg\" height=\"24px\"viewBox=\"0 0 24 24\"\n",
       "       width=\"24px\">\n",
       "    <path d=\"M0 0h24v24H0V0z\" fill=\"none\"/>\n",
       "    <path d=\"M18.56 5.44l.94 2.06.94-2.06 2.06-.94-2.06-.94-.94-2.06-.94 2.06-2.06.94zm-11 1L8.5 8.5l.94-2.06 2.06-.94-2.06-.94L8.5 2.5l-.94 2.06-2.06.94zm10 10l.94 2.06.94-2.06 2.06-.94-2.06-.94-.94-2.06-.94 2.06-2.06.94z\"/><path d=\"M17.41 7.96l-1.37-1.37c-.4-.4-.92-.59-1.43-.59-.52 0-1.04.2-1.43.59L10.3 9.45l-7.72 7.72c-.78.78-.78 2.05 0 2.83L4 21.41c.39.39.9.59 1.41.59.51 0 1.02-.2 1.41-.59l7.78-7.78 2.81-2.81c.8-.78.8-2.07 0-2.86zM5.41 20L4 18.59l7.72-7.72 1.47 1.35L5.41 20z\"/>\n",
       "  </svg>\n",
       "      </button>\n",
       "      \n",
       "  <style>\n",
       "    .colab-df-container {\n",
       "      display:flex;\n",
       "      flex-wrap:wrap;\n",
       "      gap: 12px;\n",
       "    }\n",
       "\n",
       "    .colab-df-convert {\n",
       "      background-color: #E8F0FE;\n",
       "      border: none;\n",
       "      border-radius: 50%;\n",
       "      cursor: pointer;\n",
       "      display: none;\n",
       "      fill: #1967D2;\n",
       "      height: 32px;\n",
       "      padding: 0 0 0 0;\n",
       "      width: 32px;\n",
       "    }\n",
       "\n",
       "    .colab-df-convert:hover {\n",
       "      background-color: #E2EBFA;\n",
       "      box-shadow: 0px 1px 2px rgba(60, 64, 67, 0.3), 0px 1px 3px 1px rgba(60, 64, 67, 0.15);\n",
       "      fill: #174EA6;\n",
       "    }\n",
       "\n",
       "    [theme=dark] .colab-df-convert {\n",
       "      background-color: #3B4455;\n",
       "      fill: #D2E3FC;\n",
       "    }\n",
       "\n",
       "    [theme=dark] .colab-df-convert:hover {\n",
       "      background-color: #434B5C;\n",
       "      box-shadow: 0px 1px 3px 1px rgba(0, 0, 0, 0.15);\n",
       "      filter: drop-shadow(0px 1px 2px rgba(0, 0, 0, 0.3));\n",
       "      fill: #FFFFFF;\n",
       "    }\n",
       "  </style>\n",
       "\n",
       "      <script>\n",
       "        const buttonEl =\n",
       "          document.querySelector('#df-0676c5af-165f-4a49-985a-0228481423da button.colab-df-convert');\n",
       "        buttonEl.style.display =\n",
       "          google.colab.kernel.accessAllowed ? 'block' : 'none';\n",
       "\n",
       "        async function convertToInteractive(key) {\n",
       "          const element = document.querySelector('#df-0676c5af-165f-4a49-985a-0228481423da');\n",
       "          const dataTable =\n",
       "            await google.colab.kernel.invokeFunction('convertToInteractive',\n",
       "                                                     [key], {});\n",
       "          if (!dataTable) return;\n",
       "\n",
       "          const docLinkHtml = 'Like what you see? Visit the ' +\n",
       "            '<a target=\"_blank\" href=https://colab.research.google.com/notebooks/data_table.ipynb>data table notebook</a>'\n",
       "            + ' to learn more about interactive tables.';\n",
       "          element.innerHTML = '';\n",
       "          dataTable['output_type'] = 'display_data';\n",
       "          await google.colab.output.renderOutput(dataTable, element);\n",
       "          const docLink = document.createElement('div');\n",
       "          docLink.innerHTML = docLinkHtml;\n",
       "          element.appendChild(docLink);\n",
       "        }\n",
       "      </script>\n",
       "    </div>\n",
       "  </div>\n",
       "  "
      ],
      "text/plain": [
       "   id  gender      PPE      DFA     RPDE  numPulses  numPeriodsPulses  \\\n",
       "0   0       1  0.85247  0.71826  0.57227        240               239   \n",
       "1   0       1  0.76686  0.69481  0.53966        234               233   \n",
       "2   0       1  0.85083  0.67604  0.58982        232               231   \n",
       "3   1       0  0.41121  0.79672  0.59257        178               177   \n",
       "4   1       0  0.32790  0.79782  0.53028        236               235   \n",
       "\n",
       "   meanPeriodPulses  stdDevPeriodPulses  locPctJitter  ...  \\\n",
       "0          0.008064            0.000087       0.00218  ...   \n",
       "1          0.008258            0.000073       0.00195  ...   \n",
       "2          0.008340            0.000060       0.00176  ...   \n",
       "3          0.010858            0.000183       0.00419  ...   \n",
       "4          0.008162            0.002669       0.00535  ...   \n",
       "\n",
       "   tqwt_kurtosisValue_dec_28  tqwt_kurtosisValue_dec_29  \\\n",
       "0                     1.5620                     2.6445   \n",
       "1                     1.5589                     3.6107   \n",
       "2                     1.5643                     2.3308   \n",
       "3                     3.7805                     3.5664   \n",
       "4                     6.1727                     5.8416   \n",
       "\n",
       "   tqwt_kurtosisValue_dec_30  tqwt_kurtosisValue_dec_31  \\\n",
       "0                     3.8686                     4.2105   \n",
       "1                    23.5155                    14.1962   \n",
       "2                     9.4959                    10.7458   \n",
       "3                     5.2558                    14.0403   \n",
       "4                     6.0805                     5.7621   \n",
       "\n",
       "   tqwt_kurtosisValue_dec_32  tqwt_kurtosisValue_dec_33  \\\n",
       "0                     5.1221                     4.4625   \n",
       "1                    11.0261                     9.5082   \n",
       "2                    11.0177                     4.8066   \n",
       "3                     4.2235                     4.6857   \n",
       "4                     7.7817                    11.6891   \n",
       "\n",
       "   tqwt_kurtosisValue_dec_34  tqwt_kurtosisValue_dec_35  \\\n",
       "0                     2.6202                     3.0004   \n",
       "1                     6.5245                     6.3431   \n",
       "2                     2.9199                     3.1495   \n",
       "3                     4.8460                     6.2650   \n",
       "4                     8.2103                     5.0559   \n",
       "\n",
       "   tqwt_kurtosisValue_dec_36  class  \n",
       "0                    18.9405      1  \n",
       "1                    45.1780      1  \n",
       "2                     4.7666      1  \n",
       "3                     4.0603      1  \n",
       "4                     6.1164      1  \n",
       "\n",
       "[5 rows x 755 columns]"
      ]
     },
     "execution_count": 135,
     "metadata": {},
     "output_type": "execute_result"
    }
   ],
   "source": [
    "df = pd.read_csv('/content/pd_speech_features.csv')\n",
    "y = df.iloc[:, 754:]\n",
    "X = df.iloc[:, :754]\n",
    "df.head()"
   ]
  },
  {
   "cell_type": "code",
   "execution_count": 136,
   "metadata": {
    "executionInfo": {
     "elapsed": 376,
     "status": "ok",
     "timestamp": 1649618770321,
     "user": {
      "displayName": "kasra kakaee",
      "userId": "13254618899235387921"
     },
     "user_tz": -270
    },
    "id": "o85IkQQR5RL7"
   },
   "outputs": [],
   "source": [
    "from sklearn import preprocessing\n",
    "scaler = preprocessing.MinMaxScaler().fit(X)\n",
    "X = pd.DataFrame(scaler.transform(X))"
   ]
  },
  {
   "cell_type": "code",
   "execution_count": 137,
   "metadata": {
    "executionInfo": {
     "elapsed": 2,
     "status": "ok",
     "timestamp": 1649618771455,
     "user": {
      "displayName": "kasra kakaee",
      "userId": "13254618899235387921"
     },
     "user_tz": -270
    },
    "id": "QOAmWv6gxJpf"
   },
   "outputs": [],
   "source": [
    "idx = np.random.permutation(X.index)\n",
    "X = X.reindex(idx)\n",
    "y = y.reindex(idx)"
   ]
  },
  {
   "cell_type": "code",
   "execution_count": 138,
   "metadata": {
    "executionInfo": {
     "elapsed": 1,
     "status": "ok",
     "timestamp": 1649618772978,
     "user": {
      "displayName": "kasra kakaee",
      "userId": "13254618899235387921"
     },
     "user_tz": -270
    },
    "id": "osnpHGJXxMuJ"
   },
   "outputs": [],
   "source": [
    "n = X.shape[0]\n",
    "n = int(0.7 * n)\n",
    "X_train = X.iloc[:n,]\n",
    "X_test = X.iloc[n:,]\n",
    "y_train = y.iloc[:n,]\n",
    "y_train = y_train.astype('int')\n",
    "y_test = y.iloc[n:,]\n",
    "y_test = y_test.astype('int')"
   ]
  },
  {
   "cell_type": "code",
   "execution_count": 139,
   "metadata": {
    "colab": {
     "base_uri": "https://localhost:8080/"
    },
    "executionInfo": {
     "elapsed": 3,
     "status": "ok",
     "timestamp": 1649618774517,
     "user": {
      "displayName": "kasra kakaee",
      "userId": "13254618899235387921"
     },
     "user_tz": -270
    },
    "id": "AQgGwdQwzHps",
    "outputId": "6926a819-c644-4ecb-91c6-2c272c90efd4"
   },
   "outputs": [
    {
     "name": "stdout",
     "output_type": "stream",
     "text": [
      "26.27599243856333\n",
      "23.348017621145374\n"
     ]
    }
   ],
   "source": [
    "y_pred_train = np.full(n, 1)\n",
    "dif = np.array(y_train).ravel() - y_pred_train\n",
    "print(np.count_nonzero(dif != 0) / dif.shape[0] * 100)\n",
    "y_pred_test = np.full(X.shape[0] - n, 1)\n",
    "dif = np.array(y_test).ravel() - y_pred_test\n",
    "print(np.count_nonzero(dif != 0) / dif.shape[0] * 100)\n"
   ]
  },
  {
   "cell_type": "markdown",
   "metadata": {
    "id": "Acw-na7i0pa5"
   },
   "source": [
    "natije giri: hodoode 25 darsad az label ha 1 ast dar natije agar model hame ra 0 tashkhis bedahad deghat 75 darsadi khahad dasht. pas modeli ke deghate kamtar az 75 darsad darad be darde ma nemikhorad."
   ]
  },
  {
   "cell_type": "code",
   "execution_count": 106,
   "metadata": {
    "colab": {
     "base_uri": "https://localhost:8080/"
    },
    "executionInfo": {
     "elapsed": 996,
     "status": "ok",
     "timestamp": 1649618037139,
     "user": {
      "displayName": "kasra kakaee",
      "userId": "13254618899235387921"
     },
     "user_tz": -270
    },
    "id": "RPdth8mExPY5",
    "outputId": "15d90710-4402-4b14-f86e-072be0966794"
   },
   "outputs": [
    {
     "name": "stdout",
     "output_type": "stream",
     "text": [
      "[[ 38  25]\n",
      " [ 30 134]]\n",
      "0.7577092511013216\n"
     ]
    }
   ],
   "source": [
    "from sklearn import tree\n",
    "from sklearn.metrics import confusion_matrix\n",
    "clf = tree.DecisionTreeClassifier()\n",
    "clf = clf.fit(X_train, np.array(y_train))\n",
    "y_pred = clf.predict(X_test)\n",
    "print(confusion_matrix(y_test, y_pred))\n",
    "print(clf.score(X_test, y_test))"
   ]
  },
  {
   "cell_type": "code",
   "execution_count": 113,
   "metadata": {
    "colab": {
     "base_uri": "https://localhost:8080/"
    },
    "executionInfo": {
     "elapsed": 977,
     "status": "ok",
     "timestamp": 1649618531868,
     "user": {
      "displayName": "kasra kakaee",
      "userId": "13254618899235387921"
     },
     "user_tz": -270
    },
    "id": "dvMoAUxLxSjn",
    "outputId": "89797d8a-39ae-4b36-8215-d0a821936880"
   },
   "outputs": [
    {
     "name": "stdout",
     "output_type": "stream",
     "text": [
      "[0.88679245 0.91509434 0.86792453 0.9245283  0.96190476] 0.9112488769092544 0.0323489265876938\n",
      "[0.83962264 0.83962264 0.82075472 0.90566038 0.86666667] 0.8544654088050315 0.029484985073166357\n",
      "[0.8490566  0.85849057 0.83962264 0.90566038 0.9047619 ] 0.8715184186882301 0.028151026212039066\n",
      "[[ 52  11]\n",
      " [  8 156]]\n",
      "0.9162995594713657\n"
     ]
    }
   ],
   "source": [
    "from sklearn.neighbors import KNeighborsClassifier\n",
    "neigh1 = KNeighborsClassifier(n_neighbors=1)\n",
    "neigh2 = KNeighborsClassifier(n_neighbors=2)\n",
    "neigh3 = KNeighborsClassifier(n_neighbors=3)\n",
    "from sklearn.model_selection import cross_val_score\n",
    "scores = cross_val_score(neigh1, X_train, np.array(y_train).ravel(), cv = 5)\n",
    "print(scores, scores.mean(), scores.std())\n",
    "scores = cross_val_score(neigh2, X_train, np.array(y_train).ravel(), cv = 5)\n",
    "print(scores, scores.mean(), scores.std())\n",
    "scores = cross_val_score(neigh3, X_train, np.array(y_train).ravel(), cv = 5)\n",
    "print(scores, scores.mean(), scores.std())\n",
    "\n",
    "neigh1.fit(X_train, np.array(y_train).ravel())\n",
    "y_pred = neigh1.predict(X_test)\n",
    "print(confusion_matrix(y_test,y_pred))\n",
    "print(neigh1.score(X_test, y_test))"
   ]
  },
  {
   "cell_type": "code",
   "execution_count": 108,
   "metadata": {
    "colab": {
     "base_uri": "https://localhost:8080/"
    },
    "executionInfo": {
     "elapsed": 597,
     "status": "ok",
     "timestamp": 1649618046619,
     "user": {
      "displayName": "kasra kakaee",
      "userId": "13254618899235387921"
     },
     "user_tz": -270
    },
    "id": "M3zFjZUmxUbk",
    "outputId": "b3203d2f-982a-4545-ec25-997dfec543c4"
   },
   "outputs": [
    {
     "name": "stdout",
     "output_type": "stream",
     "text": [
      "[[ 28  35]\n",
      " [  4 160]]\n",
      "0.8281938325991189\n"
     ]
    }
   ],
   "source": [
    "from sklearn import svm\n",
    "svmcl = svm.SVC()\n",
    "svmcl = svmcl.fit(X_train, np.array(y_train).ravel())\n",
    "y_pred = svmcl.predict(X_test)\n",
    "print(confusion_matrix(y_test, y_pred))\n",
    "print(svmcl.score(X_test, y_test))"
   ]
  },
  {
   "cell_type": "code",
   "execution_count": 109,
   "metadata": {
    "colab": {
     "base_uri": "https://localhost:8080/"
    },
    "executionInfo": {
     "elapsed": 12706,
     "status": "ok",
     "timestamp": 1649618061659,
     "user": {
      "displayName": "kasra kakaee",
      "userId": "13254618899235387921"
     },
     "user_tz": -270
    },
    "id": "kdKY-IKPxWIu",
    "outputId": "e32f74bc-562a-43c4-eecc-386aabb6801f"
   },
   "outputs": [
    {
     "name": "stdout",
     "output_type": "stream",
     "text": [
      "[0.80188679 0.85849057 0.77358491 0.85849057 0.85714286] 0.8299191374663073 0.03558972327616699\n",
      "[0.85849057 0.83962264 0.82075472 0.87735849 0.88571429] 0.8563881401617252 0.023895695831010824\n",
      "[0.8490566  0.85849057 0.80188679 0.90566038 0.86666667] 0.8563522012578616 0.033352551716244\n",
      "[0.85849057 0.85849057 0.81132075 0.90566038 0.88571429] 0.8639353099730457 0.03175810740737896\n",
      "[[ 34  29]\n",
      " [  6 158]]\n",
      "0.8458149779735683\n"
     ]
    }
   ],
   "source": [
    "from sklearn.ensemble import RandomForestClassifier\n",
    "rfc1 = RandomForestClassifier(n_estimators = 10)\n",
    "rfc2 = RandomForestClassifier(n_estimators = 50)\n",
    "rfc3 = RandomForestClassifier(n_estimators = 100)\n",
    "rfc4 = RandomForestClassifier(n_estimators = 200)\n",
    "\n",
    "scores = cross_val_score(rfc1, X_train, np.array(y_train).ravel(), cv = 5)\n",
    "print(scores, scores.mean(), scores.std())\n",
    "scores = cross_val_score(rfc2, X_train, np.array(y_train).ravel(), cv = 5)\n",
    "print(scores, scores.mean(), scores.std())\n",
    "scores = cross_val_score(rfc3, X_train, np.array(y_train).ravel(), cv = 5)\n",
    "print(scores, scores.mean(), scores.std())\n",
    "scores = cross_val_score(rfc4, X_train, np.array(y_train).ravel(), cv = 5)\n",
    "print(scores, scores.mean(), scores.std())\n",
    "\n",
    "rfc3 = rfc3.fit(X_train, np.array(y_train).ravel())\n",
    "y_pred = rfc3.predict(X_test)\n",
    "print(confusion_matrix(y_test, y_pred))\n",
    "print(rfc3.score(X_test, y_test))"
   ]
  },
  {
   "cell_type": "markdown",
   "metadata": {
    "id": "ku5ZzAro1DdD"
   },
   "source": [
    "random forest va svm hodoodan 83 darsad deghat dashtand va decision tree 75 darsad. dar natije decision tree modele khoobi nist. va knn 91 darsad deghat dasht ke behtarin model ast. random forest va svm ba vojoode inke deghateshan az 75 bishtar ast meghadare ghabele tavajohi bishtar nist va in baes mishavad ke kheili model haye khoobi nabashand vali hamchenan az decision tree behtar boodeand"
   ]
  },
  {
   "cell_type": "code",
   "execution_count": 129,
   "metadata": {
    "executionInfo": {
     "elapsed": 613,
     "status": "ok",
     "timestamp": 1649618717183,
     "user": {
      "displayName": "kasra kakaee",
      "userId": "13254618899235387921"
     },
     "user_tz": -270
    },
    "id": "Le7eWqwe1fUO"
   },
   "outputs": [],
   "source": [
    "from sklearn.decomposition import PCA\n",
    "pca = PCA(n_components=2)\n",
    "pca.fit(X)\n",
    "X_reduced= pca.transform(X)"
   ]
  },
  {
   "cell_type": "code",
   "execution_count": 130,
   "metadata": {
    "executionInfo": {
     "elapsed": 1,
     "status": "ok",
     "timestamp": 1649618718606,
     "user": {
      "displayName": "kasra kakaee",
      "userId": "13254618899235387921"
     },
     "user_tz": -270
    },
    "id": "n2uTupOb7MyR"
   },
   "outputs": [],
   "source": [
    "n = X.shape[0]\n",
    "n = int(0.7 * n)\n",
    "X_train = X.iloc[:n,]\n",
    "X_test = X.iloc[n:,]\n",
    "y_train = y.iloc[:n,]\n",
    "y_train = y_train.astype('int')\n",
    "y_test = y.iloc[n:,]\n",
    "y_test = y_test.astype('int')"
   ]
  },
  {
   "cell_type": "code",
   "execution_count": 131,
   "metadata": {
    "colab": {
     "base_uri": "https://localhost:8080/"
    },
    "executionInfo": {
     "elapsed": 846,
     "status": "ok",
     "timestamp": 1649618720987,
     "user": {
      "displayName": "kasra kakaee",
      "userId": "13254618899235387921"
     },
     "user_tz": -270
    },
    "id": "vrBibyOK7Pl8",
    "outputId": "1c5e0480-6764-4d78-fc79-c5ce62c9a88b"
   },
   "outputs": [
    {
     "name": "stdout",
     "output_type": "stream",
     "text": [
      "[[ 42  21]\n",
      " [ 35 129]]\n",
      "0.7533039647577092\n"
     ]
    }
   ],
   "source": [
    "from sklearn import tree\n",
    "from sklearn.metrics import confusion_matrix\n",
    "clf = tree.DecisionTreeClassifier()\n",
    "clf = clf.fit(X_train, np.array(y_train))\n",
    "y_pred = clf.predict(X_test)\n",
    "print(confusion_matrix(y_test, y_pred))\n",
    "print(clf.score(X_test, y_test))"
   ]
  },
  {
   "cell_type": "code",
   "execution_count": 132,
   "metadata": {
    "colab": {
     "base_uri": "https://localhost:8080/"
    },
    "executionInfo": {
     "elapsed": 1012,
     "status": "ok",
     "timestamp": 1649618723393,
     "user": {
      "displayName": "kasra kakaee",
      "userId": "13254618899235387921"
     },
     "user_tz": -270
    },
    "id": "dUOlJQSz7VOy",
    "outputId": "fc1d06ca-d215-4357-a7e0-9ffe48f9b316"
   },
   "outputs": [
    {
     "name": "stdout",
     "output_type": "stream",
     "text": [
      "[0.88679245 0.91509434 0.86792453 0.9245283  0.96190476] 0.9112488769092544 0.0323489265876938\n",
      "[0.83962264 0.83962264 0.82075472 0.90566038 0.86666667] 0.8544654088050315 0.029484985073166357\n",
      "[0.8490566  0.85849057 0.83962264 0.90566038 0.9047619 ] 0.8715184186882301 0.028151026212039066\n",
      "[[ 52  11]\n",
      " [  8 156]]\n",
      "0.9162995594713657\n"
     ]
    }
   ],
   "source": [
    "from sklearn.neighbors import KNeighborsClassifier\n",
    "neigh1 = KNeighborsClassifier(n_neighbors=1)\n",
    "neigh2 = KNeighborsClassifier(n_neighbors=2)\n",
    "neigh3 = KNeighborsClassifier(n_neighbors=3)\n",
    "from sklearn.model_selection import cross_val_score\n",
    "scores = cross_val_score(neigh1, X_train, np.array(y_train).ravel(), cv = 5)\n",
    "print(scores, scores.mean(), scores.std())\n",
    "scores = cross_val_score(neigh2, X_train, np.array(y_train).ravel(), cv = 5)\n",
    "print(scores, scores.mean(), scores.std())\n",
    "scores = cross_val_score(neigh3, X_train, np.array(y_train).ravel(), cv = 5)\n",
    "print(scores, scores.mean(), scores.std())\n",
    "\n",
    "neigh1.fit(X_train, np.array(y_train).ravel())\n",
    "y_pred = neigh1.predict(X_test)\n",
    "print(confusion_matrix(y_test,y_pred))\n",
    "print(neigh1.score(X_test, y_test))"
   ]
  },
  {
   "cell_type": "code",
   "execution_count": 133,
   "metadata": {
    "colab": {
     "base_uri": "https://localhost:8080/"
    },
    "executionInfo": {
     "elapsed": 384,
     "status": "ok",
     "timestamp": 1649618726555,
     "user": {
      "displayName": "kasra kakaee",
      "userId": "13254618899235387921"
     },
     "user_tz": -270
    },
    "id": "hqtCUr9c7YRo",
    "outputId": "3f9623ed-b36a-4ec9-a73b-b98a72709e9c"
   },
   "outputs": [
    {
     "name": "stdout",
     "output_type": "stream",
     "text": [
      "[[ 28  35]\n",
      " [  4 160]]\n",
      "0.8281938325991189\n"
     ]
    }
   ],
   "source": [
    "from sklearn import svm\n",
    "svmcl = svm.SVC()\n",
    "svmcl = svmcl.fit(X_train, np.array(y_train).ravel())\n",
    "y_pred = svmcl.predict(X_test)\n",
    "print(confusion_matrix(y_test, y_pred))\n",
    "print(svmcl.score(X_test, y_test))"
   ]
  },
  {
   "cell_type": "code",
   "execution_count": 134,
   "metadata": {
    "colab": {
     "base_uri": "https://localhost:8080/"
    },
    "executionInfo": {
     "elapsed": 12903,
     "status": "ok",
     "timestamp": 1649618741302,
     "user": {
      "displayName": "kasra kakaee",
      "userId": "13254618899235387921"
     },
     "user_tz": -270
    },
    "id": "8Bckr0dN7bet",
    "outputId": "419d7ff3-8e1f-4dd1-8534-2c46e5effb23"
   },
   "outputs": [
    {
     "name": "stdout",
     "output_type": "stream",
     "text": [
      "[0.82075472 0.80188679 0.81132075 0.86792453 0.81904762] 0.8241868823000897 0.022864840736440923\n",
      "[0.8490566  0.86792453 0.80188679 0.89622642 0.88571429] 0.8601617250673854 0.03326604222504493\n",
      "[0.85849057 0.86792453 0.81132075 0.91509434 0.87619048] 0.8658041329739443 0.033358127767761064\n",
      "[0.8490566  0.85849057 0.81132075 0.90566038 0.86666667] 0.8582389937106918 0.030349675525080503\n",
      "[[ 37  26]\n",
      " [  1 163]]\n",
      "0.8810572687224669\n"
     ]
    }
   ],
   "source": [
    "from sklearn.ensemble import RandomForestClassifier\n",
    "rfc1 = RandomForestClassifier(n_estimators = 10)\n",
    "rfc2 = RandomForestClassifier(n_estimators = 50)\n",
    "rfc3 = RandomForestClassifier(n_estimators = 100)\n",
    "rfc4 = RandomForestClassifier(n_estimators = 200)\n",
    "\n",
    "scores = cross_val_score(rfc1, X_train, np.array(y_train).ravel(), cv = 5)\n",
    "print(scores, scores.mean(), scores.std())\n",
    "scores = cross_val_score(rfc2, X_train, np.array(y_train).ravel(), cv = 5)\n",
    "print(scores, scores.mean(), scores.std())\n",
    "scores = cross_val_score(rfc3, X_train, np.array(y_train).ravel(), cv = 5)\n",
    "print(scores, scores.mean(), scores.std())\n",
    "scores = cross_val_score(rfc4, X_train, np.array(y_train).ravel(), cv = 5)\n",
    "print(scores, scores.mean(), scores.std())\n",
    "\n",
    "rfc3 = rfc3.fit(X_train, np.array(y_train).ravel())\n",
    "y_pred = rfc3.predict(X_test)\n",
    "print(confusion_matrix(y_test, y_pred))\n",
    "print(rfc3.score(X_test, y_test))"
   ]
  },
  {
   "cell_type": "markdown",
   "metadata": {
    "id": "SYQt5lXX7xgf"
   },
   "source": [
    "ba anjame PCA va kam kardane dimension e dade didim ke meghdare kami deghate model ha taghir kardand( maghadire 200, 100, 50, 20, 10, 2 test shod) va hich kodam az in maghadir tasire cheshm giri nadasht va faghat rooye random forest tasir gozar bood meghdare kami. vali behtarin model ra avaz nakard(knn ba 91 darsad)\n"
   ]
  }
 ],
 "metadata": {
  "colab": {
   "authorship_tag": "ABX9TyP6lPQVCKwUbbbJVkIB3q8h",
   "collapsed_sections": [],
   "name": "DM-HW2-mahtabalizade-610397137.ipynb",
   "provenance": []
  },
  "kernelspec": {
   "display_name": "Python 3 (ipykernel)",
   "language": "python",
   "name": "python3"
  },
  "language_info": {
   "codemirror_mode": {
    "name": "ipython",
    "version": 3
   },
   "file_extension": ".py",
   "mimetype": "text/x-python",
   "name": "python",
   "nbconvert_exporter": "python",
   "pygments_lexer": "ipython3",
   "version": "3.9.12"
  }
 },
 "nbformat": 4,
 "nbformat_minor": 1
}
