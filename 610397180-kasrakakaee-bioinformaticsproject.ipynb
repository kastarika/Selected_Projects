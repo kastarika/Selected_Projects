{
 "cells": [
  {
   "cell_type": "code",
   "execution_count": null,
   "metadata": {
    "id": "gdcGai7EVkiO"
   },
   "outputs": [],
   "source": [
    "!pip install --upgrade xlrd"
   ]
  },
  {
   "cell_type": "code",
   "execution_count": 94,
   "metadata": {
    "executionInfo": {
     "elapsed": 479,
     "status": "ok",
     "timestamp": 1659227007838,
     "user": {
      "displayName": "kasra kakaee",
      "userId": "13254618899235387921"
     },
     "user_tz": -270
    },
    "id": "RO76PdIX2tED"
   },
   "outputs": [],
   "source": [
    "import numpy as np\n",
    "import pandas as pd\n",
    "import networkx\n",
    "import sklearn.preprocessing\n",
    "from scipy.sparse import csc_matrix"
   ]
  },
  {
   "cell_type": "code",
   "execution_count": 3,
   "metadata": {
    "colab": {
     "base_uri": "https://localhost:8080/"
    },
    "executionInfo": {
     "elapsed": 4,
     "status": "ok",
     "timestamp": 1659222057412,
     "user": {
      "displayName": "kasra kakaee",
      "userId": "13254618899235387921"
     },
     "user_tz": -270
    },
    "id": "oj-NmGar6FP4",
    "outputId": "ade1ae40-f9ac-4a19-9fab-7fa477b8f56f"
   },
   "outputs": [
    {
     "data": {
      "text/plain": [
       "array([[0, 2],\n",
       "       [0, 0],\n",
       "       [2, 3]])"
      ]
     },
     "execution_count": 3,
     "metadata": {},
     "output_type": "execute_result"
    }
   ],
   "source": [
    "x = np.array([[0, 2], [0, 0], [2,3]])\n",
    "\n",
    "sklearn.preprocessing.normalize(x, norm=\"l1\", axis=0, copy=False)\n",
    "x"
   ]
  },
  {
   "cell_type": "code",
   "execution_count": 4,
   "metadata": {
    "executionInfo": {
     "elapsed": 514,
     "status": "ok",
     "timestamp": 1659222059741,
     "user": {
      "displayName": "kasra kakaee",
      "userId": "13254618899235387921"
     },
     "user_tz": -270
    },
    "id": "kPyPQu4wD2G3"
   },
   "outputs": [],
   "source": [
    "def Normalize(M):\n",
    "  return sklearn.preprocessing.normalize(M, norm=\"l1\", axis=0, copy=False)"
   ]
  },
  {
   "cell_type": "code",
   "execution_count": 89,
   "metadata": {
    "executionInfo": {
     "elapsed": 487,
     "status": "ok",
     "timestamp": 1659226846495,
     "user": {
      "displayName": "kasra kakaee",
      "userId": "13254618899235387921"
     },
     "user_tz": -270
    },
    "id": "Hnu1uZMa491i"
   },
   "outputs": [],
   "source": [
    "def RegularizationMatrix(M, Mg, b):\n",
    "  n = M.shape[0]\n",
    "  M1 = np.ones((n,1))\n",
    "  m = M @ M1\n",
    "  p = M.transpose() @ m\n",
    "  p = p.transpose()\n",
    "  P = np.diag(p.flatten())\n",
    "  print(p.shape)\n",
    "  print(P.shape)\n",
    "  #Mr = Mg @ np.linalg.matrix_power(P, -b)\n",
    "  Mr = Mg\n",
    "  Mr = Normalize(M)\n",
    "  return Mr"
   ]
  },
  {
   "cell_type": "code",
   "execution_count": 6,
   "metadata": {
    "executionInfo": {
     "elapsed": 1,
     "status": "ok",
     "timestamp": 1659222063214,
     "user": {
      "displayName": "kasra kakaee",
      "userId": "13254618899235387921"
     },
     "user_tz": -270
    },
    "id": "fq0j8SIv_r4w"
   },
   "outputs": [],
   "source": [
    "def Inflate(M, r, count, beta):\n",
    "  n = M.shape[0]\n",
    "  for i in range(n):\n",
    "    p = r * (beta ** count[i])\n",
    "    M[i,:] = M[i,:] ** p\n",
    "  M = Normalize(M)\n",
    "  return M"
   ]
  },
  {
   "cell_type": "code",
   "execution_count": 61,
   "metadata": {
    "executionInfo": {
     "elapsed": 2,
     "status": "ok",
     "timestamp": 1659225002058,
     "user": {
      "displayName": "kasra kakaee",
      "userId": "13254618899235387921"
     },
     "user_tz": -270
    },
    "id": "mXECfDcbDd1S"
   },
   "outputs": [],
   "source": [
    "def Prune(M, threshold = 0.0001):\n",
    "  #print(threshold)\n",
    "  #print(M[0,0]<threshold)\n",
    "  #print(M[0,0])\n",
    "  M[M < threshold] = 0\n",
    "  M = Normalize(M)\n",
    "  return M"
   ]
  },
  {
   "cell_type": "code",
   "execution_count": 8,
   "metadata": {
    "executionInfo": {
     "elapsed": 2,
     "status": "ok",
     "timestamp": 1659222066157,
     "user": {
      "displayName": "kasra kakaee",
      "userId": "13254618899235387921"
     },
     "user_tz": -270
    },
    "id": "zmWtioI3Gbt7"
   },
   "outputs": [],
   "source": [
    "def CheckConverged(M0,M1):\n",
    "  return np.allclose(M0, M1)"
   ]
  },
  {
   "cell_type": "code",
   "execution_count": 9,
   "metadata": {
    "executionInfo": {
     "elapsed": 2,
     "status": "ok",
     "timestamp": 1659222068015,
     "user": {
      "displayName": "kasra kakaee",
      "userId": "13254618899235387921"
     },
     "user_tz": -270
    },
    "id": "Wk29OhRpG2JD"
   },
   "outputs": [],
   "source": [
    "def attractors(M):\n",
    "  return np.unique(np.nonzero(M)[0])"
   ]
  },
  {
   "cell_type": "code",
   "execution_count": 60,
   "metadata": {
    "executionInfo": {
     "elapsed": 483,
     "status": "ok",
     "timestamp": 1659224995068,
     "user": {
      "displayName": "kasra kakaee",
      "userId": "13254618899235387921"
     },
     "user_tz": -270
    },
    "id": "lgju5MiRI91y"
   },
   "outputs": [],
   "source": [
    "def clusters(M):\n",
    "  cluster = set()\n",
    "  attractor = attractors(M)\n",
    "  for a in attractor:\n",
    "    #print(M[a,:])\n",
    "    #print(np.nonzero(M[a,:])[0])\n",
    "    cluster.add(tuple(np.nonzero(M[a,:])[0].tolist()))\n",
    "  return cluster"
   ]
  },
  {
   "cell_type": "code",
   "execution_count": 11,
   "metadata": {
    "executionInfo": {
     "elapsed": 1,
     "status": "ok",
     "timestamp": 1659222070822,
     "user": {
      "displayName": "kasra kakaee",
      "userId": "13254618899235387921"
     },
     "user_tz": -270
    },
    "id": "7IS6b09fUWY9"
   },
   "outputs": [],
   "source": [
    "def NA(C1, C2):\n",
    "  inter = len(tuple(set(C1) & set(C2)))\n",
    "  return (inter**2)/(len(C1) * len(C2))"
   ]
  },
  {
   "cell_type": "code",
   "execution_count": 71,
   "metadata": {
    "executionInfo": {
     "elapsed": 1,
     "status": "ok",
     "timestamp": 1659225864747,
     "user": {
      "displayName": "kasra kakaee",
      "userId": "13254618899235387921"
     },
     "user_tz": -270
    },
    "id": "CneMoHNsjmMz"
   },
   "outputs": [],
   "source": [
    "def qf(C1):\n",
    "  global A\n",
    "  k = len(C1)\n",
    "  ecount = 0\n",
    "  for i in range(k):\n",
    "    for j in range(i + 1, k):\n",
    "      if(A[i,j] != 0):\n",
    "        ecount += 1\n",
    "  return ecount / (k * (k-1))"
   ]
  },
  {
   "cell_type": "code",
   "execution_count": 66,
   "metadata": {
    "executionInfo": {
     "elapsed": 508,
     "status": "ok",
     "timestamp": 1659225754840,
     "user": {
      "displayName": "kasra kakaee",
      "userId": "13254618899235387921"
     },
     "user_tz": -270
    },
    "id": "LFr_FL1BbEpW"
   },
   "outputs": [],
   "source": [
    "def AddLoops(A):\n",
    "  n = A.shape[0]\n",
    "  for i in range(n):\n",
    "    A[i, i] = max(A[i])\n",
    "  return A"
   ]
  },
  {
   "cell_type": "code",
   "execution_count": 37,
   "metadata": {
    "colab": {
     "base_uri": "https://localhost:8080/"
    },
    "executionInfo": {
     "elapsed": 4,
     "status": "ok",
     "timestamp": 1659223628934,
     "user": {
      "displayName": "kasra kakaee",
      "userId": "13254618899235387921"
     },
     "user_tz": -270
    },
    "id": "vR47-fZ-bmX_",
    "outputId": "47bf0a9b-12a3-4d33-b94e-1bc9364f5de6"
   },
   "outputs": [
    {
     "name": "stdout",
     "output_type": "stream",
     "text": [
      "[[ 5  3  5]\n",
      " [ 1  2  2]\n",
      " [10 20 20]]\n"
     ]
    }
   ],
   "source": [
    "x = np.array([[0,3,5],[1,0,2],[10,20,0]])\n",
    "\n",
    "x = AddLoops(x)\n",
    "print(x)"
   ]
  },
  {
   "cell_type": "code",
   "execution_count": null,
   "metadata": {
    "id": "CT7cBvsHU4nK"
   },
   "outputs": [],
   "source": []
  },
  {
   "cell_type": "code",
   "execution_count": 109,
   "metadata": {
    "colab": {
     "base_uri": "https://localhost:8080/"
    },
    "executionInfo": {
     "elapsed": 473,
     "status": "ok",
     "timestamp": 1659220025963,
     "user": {
      "displayName": "kasra kakaee",
      "userId": "13254618899235387921"
     },
     "user_tz": -270
    },
    "id": "OFUhOwK0N-db",
    "outputId": "0e7c61d5-44c7-4fb3-cfc3-4abe83469706"
   },
   "outputs": [
    {
     "name": "stdout",
     "output_type": "stream",
     "text": [
      "[0. 0. 1. 0. 0. 1. 1. 0. 0. 0.]\n"
     ]
    }
   ],
   "source": [
    "y = np.zeros(10)\n",
    "z = np.array([2,5,6])\n",
    "y[z] += 1\n",
    "print(y)"
   ]
  },
  {
   "cell_type": "code",
   "execution_count": 98,
   "metadata": {
    "executionInfo": {
     "elapsed": 1,
     "status": "ok",
     "timestamp": 1659227056580,
     "user": {
      "displayName": "kasra kakaee",
      "userId": "13254618899235387921"
     },
     "user_tz": -270
    },
    "id": "4SGXEcFaMc8W"
   },
   "outputs": [],
   "source": [
    "def SRMCL(Mg, b, r, beta, t):\n",
    "  C = set()\n",
    "  n = Mg.shape[0]\n",
    "  count = np.zeros(n)\n",
    "  M = np.copy(Mg)\n",
    "\n",
    "  for i in range(t):\n",
    "    while(True):\n",
    "      lastM = np.copy(M)\n",
    "      Mr = RegularizationMatrix(M, Mg, b)\n",
    "      M = M @ Mr\n",
    "      M = Inflate(M, r, count, beta)\n",
    "      M = Prune(M)\n",
    "      print(len(np.nonzero(M)[0]))\n",
    "      if(CheckConverged(M, lastM)):\n",
    "        break\n",
    "    Titer = attractors(M)\n",
    "    count[Titer] += 1\n",
    "    Citer = clusters(M)\n",
    "    #return M, Titer, Citer\n",
    "    C = C.union(Citer)\n",
    "    return C, M, Titer, Citer\n",
    "  return C\n",
    "\n",
    "    "
   ]
  },
  {
   "cell_type": "code",
   "execution_count": 72,
   "metadata": {
    "executionInfo": {
     "elapsed": 474,
     "status": "ok",
     "timestamp": 1659225874242,
     "user": {
      "displayName": "kasra kakaee",
      "userId": "13254618899235387921"
     },
     "user_tz": -270
    },
    "id": "uK2OxYVTOabO"
   },
   "outputs": [],
   "source": [
    "def post_processing(C, qf, w, p):\n",
    "  C = np.array(list(C))\n",
    "  k = len(C)\n",
    "  dl = []\n",
    "  for i in range(k):\n",
    "    if(qf[C[i]] < w or len(C[i]) <= 2):\n",
    "      dl.append(i)\n",
    "  dl = np.array(dl)\n",
    "  C = np.delete(C, dl)\n",
    "  Cqf = np.array(list(map(qf, C)))\n",
    "  Cindex = Cqf.argsort()\n",
    "  C = C[Cindex[::-1]]\n",
    "  k = len(C)\n",
    "  dl = []\n",
    "  for i in range(k):\n",
    "    for j in range(i + 1, k):\n",
    "      if(NA(C[i], C[j]) >= p):\n",
    "        dl.append(j)\n",
    "\n",
    "  dl = np.array(dl)\n",
    "  dl = np.unique(dl)\n",
    "  C = np.delete(C, dl)\n",
    "  \n",
    "  return C\n",
    "  "
   ]
  },
  {
   "cell_type": "code",
   "execution_count": 38,
   "metadata": {
    "executionInfo": {
     "elapsed": 1060,
     "status": "ok",
     "timestamp": 1659223715654,
     "user": {
      "displayName": "kasra kakaee",
      "userId": "13254618899235387921"
     },
     "user_tz": -270
    },
    "id": "OOQd6ATQVMY8"
   },
   "outputs": [],
   "source": [
    "df = pd.read_excel(\"/content/pro200600448_1_s.xls\").drop([\"Data sets\", \"# supporting data sets\"], axis = 1)\n",
    "names = pd.concat([df[\"Protein A\"], df[\"Protein B\"]]).unique()\n",
    "n = len(names)\n",
    "hash = dict(zip(names, range(n)))\n",
    "A = np.zeros((n, n))\n",
    "graph = networkx.from_numpy_matrix(A)\n",
    "\n",
    "for index, row in df.iterrows():\n",
    "  i = hash[row[\"Protein A\"]]\n",
    "  j = hash[row[\"Protein B\"]]\n",
    "  A[i,j] = row[\"Score\"]\n",
    "  A[j,i] = row[\"Score\"]"
   ]
  },
  {
   "cell_type": "code",
   "execution_count": 39,
   "metadata": {
    "executionInfo": {
     "elapsed": 485,
     "status": "ok",
     "timestamp": 1659223717733,
     "user": {
      "displayName": "kasra kakaee",
      "userId": "13254618899235387921"
     },
     "user_tz": -270
    },
    "id": "_7R6He1IZJ1x"
   },
   "outputs": [],
   "source": [
    "A = AddLoops(A)\n",
    "MG = Normalize(A)"
   ]
  },
  {
   "cell_type": "code",
   "execution_count": 55,
   "metadata": {
    "colab": {
     "base_uri": "https://localhost:8080/"
    },
    "executionInfo": {
     "elapsed": 4,
     "status": "ok",
     "timestamp": 1659224514769,
     "user": {
      "displayName": "kasra kakaee",
      "userId": "13254618899235387921"
     },
     "user_tz": -270
    },
    "id": "wuVc0hsXfHP3",
    "outputId": "94a56acc-d7a0-49ae-ab8e-bca12f3898d3"
   },
   "outputs": [
    {
     "name": "stdout",
     "output_type": "stream",
     "text": [
      "[[1 0 0 0]\n",
      " [0 2 0 0]\n",
      " [0 0 4 0]\n",
      " [0 0 0 5]]\n"
     ]
    }
   ],
   "source": [
    "x = np.array([1,2,4,5])\n",
    "print(np.diag(x))"
   ]
  },
  {
   "cell_type": "code",
   "execution_count": 99,
   "metadata": {
    "colab": {
     "base_uri": "https://localhost:8080/"
    },
    "executionInfo": {
     "elapsed": 34409,
     "status": "ok",
     "timestamp": 1659227102278,
     "user": {
      "displayName": "kasra kakaee",
      "userId": "13254618899235387921"
     },
     "user_tz": -270
    },
    "id": "nyI2Sp63auXw",
    "outputId": "49dba505-67d4-4369-b727-baf2ef192352"
   },
   "outputs": [
    {
     "name": "stdout",
     "output_type": "stream",
     "text": [
      "(1, 3034)\n",
      "(3034, 3034)\n",
      "94545\n",
      "(1, 3034)\n",
      "(3034, 3034)\n",
      "54408\n",
      "(1, 3034)\n",
      "(3034, 3034)\n",
      "27137\n",
      "(1, 3034)\n",
      "(3034, 3034)\n",
      "14229\n",
      "(1, 3034)\n",
      "(3034, 3034)\n",
      "8160\n",
      "(1, 3034)\n",
      "(3034, 3034)\n",
      "5412\n",
      "(1, 3034)\n",
      "(3034, 3034)\n",
      "4285\n",
      "(1, 3034)\n",
      "(3034, 3034)\n",
      "3667\n",
      "(1, 3034)\n",
      "(3034, 3034)\n",
      "3415\n",
      "(1, 3034)\n",
      "(3034, 3034)\n",
      "3328\n",
      "(1, 3034)\n",
      "(3034, 3034)\n",
      "3201\n",
      "(1, 3034)\n",
      "(3034, 3034)\n",
      "3189\n",
      "(1, 3034)\n",
      "(3034, 3034)\n",
      "3182\n",
      "(1, 3034)\n",
      "(3034, 3034)\n",
      "3181\n",
      "(1, 3034)\n",
      "(3034, 3034)\n",
      "3181\n"
     ]
    }
   ],
   "source": [
    "Mg = np.copy(MG)\n",
    "cluster, M,titer,citer = SRMCL(Mg, 2, 2, 1.25, 1)\n",
    "#cluster = SRMCL(Mg, 2, 2, 1.25, 1)"
   ]
  },
  {
   "cell_type": "code",
   "execution_count": 101,
   "metadata": {
    "colab": {
     "base_uri": "https://localhost:8080/"
    },
    "executionInfo": {
     "elapsed": 478,
     "status": "ok",
     "timestamp": 1659227119075,
     "user": {
      "displayName": "kasra kakaee",
      "userId": "13254618899235387921"
     },
     "user_tz": -270
    },
    "id": "tstcTH9CkiOX",
    "outputId": "2560f498-38bc-4646-e8b3-c63a2a86a489"
   },
   "outputs": [
    {
     "name": "stdout",
     "output_type": "stream",
     "text": [
      "617\n",
      "617\n"
     ]
    }
   ],
   "source": [
    "print(len(cluster))\n",
    "print(len(citer))"
   ]
  },
  {
   "cell_type": "code",
   "execution_count": 73,
   "metadata": {
    "executionInfo": {
     "elapsed": 2,
     "status": "ok",
     "timestamp": 1659225907805,
     "user": {
      "displayName": "kasra kakaee",
      "userId": "13254618899235387921"
     },
     "user_tz": -270
    },
    "id": "aMPEBtSKiOEj"
   },
   "outputs": [],
   "source": [
    "clustercopy = np.copy(cluster)"
   ]
  }
 ],
 "metadata": {
  "colab": {
   "authorship_tag": "ABX9TyPVkC/mXpW3sWwbATFUMS+8",
   "collapsed_sections": [],
   "name": "610397180-kasrakakaee-bioinformaticsproject.ipynb",
   "provenance": []
  },
  "kernelspec": {
   "display_name": "Python 3 (ipykernel)",
   "language": "python",
   "name": "python3"
  },
  "language_info": {
   "codemirror_mode": {
    "name": "ipython",
    "version": 3
   },
   "file_extension": ".py",
   "mimetype": "text/x-python",
   "name": "python",
   "nbconvert_exporter": "python",
   "pygments_lexer": "ipython3",
   "version": "3.9.12"
  }
 },
 "nbformat": 4,
 "nbformat_minor": 1
}
